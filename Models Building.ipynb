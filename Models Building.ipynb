{
 "cells": [
  {
   "cell_type": "code",
   "execution_count": 1,
   "id": "d7b97445",
   "metadata": {},
   "outputs": [
    {
     "name": "stderr",
     "output_type": "stream",
     "text": [
      "C:\\Users\\Chetan Kumar M\\anaconda3\\lib\\site-packages\\xgboost\\compat.py:36: FutureWarning: pandas.Int64Index is deprecated and will be removed from pandas in a future version. Use pandas.Index with the appropriate dtype instead.\n",
      "  from pandas import MultiIndex, Int64Index\n"
     ]
    }
   ],
   "source": [
    "import numpy as np\n",
    "import pandas as pd\n",
    "import warnings\n",
    "import seaborn as sns\n",
    "import pickle as pkl\n",
    "\n",
    "from sklearn.ensemble import RandomForestClassifier , AdaBoostClassifier,BaggingClassifier, GradientBoostingClassifier\n",
    "from sklearn.tree import DecisionTreeClassifier ,ExtraTreeClassifier\n",
    "from xgboost import XGBClassifier\n",
    "from sklearn.linear_model import LogisticRegression\n",
    "from sklearn.svm import SVC\n",
    "from sklearn.naive_bayes import GaussianNB , MultinomialNB\n",
    "\n",
    "from sklearn.model_selection import train_test_split\n",
    "from sklearn.metrics import accuracy_score , classification_report\n",
    "\n",
    "\n",
    "warnings.filterwarnings(\"ignore\")\n"
   ]
  },
  {
   "cell_type": "code",
   "execution_count": 2,
   "id": "8e5aff3e",
   "metadata": {},
   "outputs": [],
   "source": [
    "data = pd.read_csv(\"farmer_helper.csv\")"
   ]
  },
  {
   "cell_type": "code",
   "execution_count": 9,
   "id": "657f4a40",
   "metadata": {},
   "outputs": [
    {
     "data": {
      "text/html": [
       "<div>\n",
       "<style scoped>\n",
       "    .dataframe tbody tr th:only-of-type {\n",
       "        vertical-align: middle;\n",
       "    }\n",
       "\n",
       "    .dataframe tbody tr th {\n",
       "        vertical-align: top;\n",
       "    }\n",
       "\n",
       "    .dataframe thead th {\n",
       "        text-align: right;\n",
       "    }\n",
       "</style>\n",
       "<table border=\"1\" class=\"dataframe\">\n",
       "  <thead>\n",
       "    <tr style=\"text-align: right;\">\n",
       "      <th></th>\n",
       "      <th>Unnamed: 0</th>\n",
       "      <th>temperature</th>\n",
       "      <th>humidity</th>\n",
       "      <th>ph</th>\n",
       "      <th>rainfall</th>\n",
       "      <th>N</th>\n",
       "      <th>P</th>\n",
       "      <th>K</th>\n",
       "    </tr>\n",
       "  </thead>\n",
       "  <tbody>\n",
       "    <tr>\n",
       "      <th>count</th>\n",
       "      <td>1500.000000</td>\n",
       "      <td>1500.000000</td>\n",
       "      <td>1500.000000</td>\n",
       "      <td>1500.000000</td>\n",
       "      <td>1500.000000</td>\n",
       "      <td>1500.000000</td>\n",
       "      <td>1500.000000</td>\n",
       "      <td>1500.000000</td>\n",
       "    </tr>\n",
       "    <tr>\n",
       "      <th>mean</th>\n",
       "      <td>749.500000</td>\n",
       "      <td>25.430545</td>\n",
       "      <td>75.113914</td>\n",
       "      <td>6.390652</td>\n",
       "      <td>121.728344</td>\n",
       "      <td>52.666667</td>\n",
       "      <td>48.333333</td>\n",
       "      <td>53.333333</td>\n",
       "    </tr>\n",
       "    <tr>\n",
       "      <th>std</th>\n",
       "      <td>433.157015</td>\n",
       "      <td>5.393916</td>\n",
       "      <td>19.624902</td>\n",
       "      <td>0.642545</td>\n",
       "      <td>51.150488</td>\n",
       "      <td>35.502054</td>\n",
       "      <td>35.633346</td>\n",
       "      <td>58.633160</td>\n",
       "    </tr>\n",
       "    <tr>\n",
       "      <th>min</th>\n",
       "      <td>0.000000</td>\n",
       "      <td>8.825675</td>\n",
       "      <td>18.092240</td>\n",
       "      <td>4.507524</td>\n",
       "      <td>40.351531</td>\n",
       "      <td>20.000000</td>\n",
       "      <td>10.000000</td>\n",
       "      <td>10.000000</td>\n",
       "    </tr>\n",
       "    <tr>\n",
       "      <th>25%</th>\n",
       "      <td>374.750000</td>\n",
       "      <td>22.616237</td>\n",
       "      <td>64.589876</td>\n",
       "      <td>5.884768</td>\n",
       "      <td>87.736901</td>\n",
       "      <td>20.000000</td>\n",
       "      <td>20.000000</td>\n",
       "      <td>20.000000</td>\n",
       "    </tr>\n",
       "    <tr>\n",
       "      <th>50%</th>\n",
       "      <td>749.500000</td>\n",
       "      <td>25.046573</td>\n",
       "      <td>81.319567</td>\n",
       "      <td>6.351950</td>\n",
       "      <td>107.711167</td>\n",
       "      <td>40.000000</td>\n",
       "      <td>40.000000</td>\n",
       "      <td>30.000000</td>\n",
       "    </tr>\n",
       "    <tr>\n",
       "      <th>75%</th>\n",
       "      <td>1124.250000</td>\n",
       "      <td>27.988736</td>\n",
       "      <td>90.876194</td>\n",
       "      <td>6.835967</td>\n",
       "      <td>149.770282</td>\n",
       "      <td>80.000000</td>\n",
       "      <td>60.000000</td>\n",
       "      <td>50.000000</td>\n",
       "    </tr>\n",
       "    <tr>\n",
       "      <th>max</th>\n",
       "      <td>1499.000000</td>\n",
       "      <td>43.675493</td>\n",
       "      <td>99.981876</td>\n",
       "      <td>7.995849</td>\n",
       "      <td>298.560117</td>\n",
       "      <td>120.000000</td>\n",
       "      <td>125.000000</td>\n",
       "      <td>200.000000</td>\n",
       "    </tr>\n",
       "  </tbody>\n",
       "</table>\n",
       "</div>"
      ],
      "text/plain": [
       "        Unnamed: 0  temperature     humidity           ph     rainfall  \\\n",
       "count  1500.000000  1500.000000  1500.000000  1500.000000  1500.000000   \n",
       "mean    749.500000    25.430545    75.113914     6.390652   121.728344   \n",
       "std     433.157015     5.393916    19.624902     0.642545    51.150488   \n",
       "min       0.000000     8.825675    18.092240     4.507524    40.351531   \n",
       "25%     374.750000    22.616237    64.589876     5.884768    87.736901   \n",
       "50%     749.500000    25.046573    81.319567     6.351950   107.711167   \n",
       "75%    1124.250000    27.988736    90.876194     6.835967   149.770282   \n",
       "max    1499.000000    43.675493    99.981876     7.995849   298.560117   \n",
       "\n",
       "                 N            P            K  \n",
       "count  1500.000000  1500.000000  1500.000000  \n",
       "mean     52.666667    48.333333    53.333333  \n",
       "std      35.502054    35.633346    58.633160  \n",
       "min      20.000000    10.000000    10.000000  \n",
       "25%      20.000000    20.000000    20.000000  \n",
       "50%      40.000000    40.000000    30.000000  \n",
       "75%      80.000000    60.000000    50.000000  \n",
       "max     120.000000   125.000000   200.000000  "
      ]
     },
     "execution_count": 9,
     "metadata": {},
     "output_type": "execute_result"
    }
   ],
   "source": [
    "data.describe()"
   ]
  },
  {
   "cell_type": "code",
   "execution_count": 3,
   "id": "1faa0dba",
   "metadata": {},
   "outputs": [],
   "source": [
    "x = data[[\"temperature\",\"humidity\",\"ph\",\"rainfall\",\"N\",\"P\",\"K\"]]"
   ]
  },
  {
   "cell_type": "code",
   "execution_count": 7,
   "id": "bd873c06",
   "metadata": {},
   "outputs": [
    {
     "ename": "AttributeError",
     "evalue": "'DataFrame' object has no attribute 'describec'",
     "output_type": "error",
     "traceback": [
      "\u001b[1;31m---------------------------------------------------------------------------\u001b[0m",
      "\u001b[1;31mAttributeError\u001b[0m                            Traceback (most recent call last)",
      "\u001b[1;32mC:\\Users\\CHETAN~1\\AppData\\Local\\Temp/ipykernel_14096/2383507365.py\u001b[0m in \u001b[0;36m<module>\u001b[1;34m\u001b[0m\n\u001b[1;32m----> 1\u001b[1;33m \u001b[0mx\u001b[0m\u001b[1;33m.\u001b[0m\u001b[0mdescribec\u001b[0m\u001b[1;33m(\u001b[0m\u001b[1;33m)\u001b[0m\u001b[1;33m\u001b[0m\u001b[1;33m\u001b[0m\u001b[0m\n\u001b[0m",
      "\u001b[1;32m~\\anaconda3\\lib\\site-packages\\pandas\\core\\generic.py\u001b[0m in \u001b[0;36m__getattr__\u001b[1;34m(self, name)\u001b[0m\n\u001b[0;32m   5581\u001b[0m         ):\n\u001b[0;32m   5582\u001b[0m             \u001b[1;32mreturn\u001b[0m \u001b[0mself\u001b[0m\u001b[1;33m[\u001b[0m\u001b[0mname\u001b[0m\u001b[1;33m]\u001b[0m\u001b[1;33m\u001b[0m\u001b[1;33m\u001b[0m\u001b[0m\n\u001b[1;32m-> 5583\u001b[1;33m         \u001b[1;32mreturn\u001b[0m \u001b[0mobject\u001b[0m\u001b[1;33m.\u001b[0m\u001b[0m__getattribute__\u001b[0m\u001b[1;33m(\u001b[0m\u001b[0mself\u001b[0m\u001b[1;33m,\u001b[0m \u001b[0mname\u001b[0m\u001b[1;33m)\u001b[0m\u001b[1;33m\u001b[0m\u001b[1;33m\u001b[0m\u001b[0m\n\u001b[0m\u001b[0;32m   5584\u001b[0m \u001b[1;33m\u001b[0m\u001b[0m\n\u001b[0;32m   5585\u001b[0m     \u001b[1;32mdef\u001b[0m \u001b[0m__setattr__\u001b[0m\u001b[1;33m(\u001b[0m\u001b[0mself\u001b[0m\u001b[1;33m,\u001b[0m \u001b[0mname\u001b[0m\u001b[1;33m:\u001b[0m \u001b[0mstr\u001b[0m\u001b[1;33m,\u001b[0m \u001b[0mvalue\u001b[0m\u001b[1;33m)\u001b[0m \u001b[1;33m->\u001b[0m \u001b[1;32mNone\u001b[0m\u001b[1;33m:\u001b[0m\u001b[1;33m\u001b[0m\u001b[1;33m\u001b[0m\u001b[0m\n",
      "\u001b[1;31mAttributeError\u001b[0m: 'DataFrame' object has no attribute 'describec'"
     ]
    }
   ],
   "source": []
  },
  {
   "cell_type": "code",
   "execution_count": 4,
   "id": "a23f7666",
   "metadata": {},
   "outputs": [],
   "source": [
    "y = data[[\"Crop\"]]"
   ]
  },
  {
   "cell_type": "code",
   "execution_count": 5,
   "id": "219bcb2f",
   "metadata": {},
   "outputs": [],
   "source": [
    "x_train,x_test,y_train,y_test = train_test_split(x,y,test_size=0.2,random_state=200)"
   ]
  },
  {
   "cell_type": "code",
   "execution_count": 6,
   "id": "a46f4905",
   "metadata": {},
   "outputs": [],
   "source": [
    "model = []\n",
    "model.append([\"Logisic\" , LogisticRegression()])\n",
    "model.append([\"Decession Tree\" , DecisionTreeClassifier()])\n",
    "model.append([\"Bagging\" , BaggingClassifier()])\n",
    "model.append([\"ADA boost\" , AdaBoostClassifier()])\n",
    "model.append([\"XGBOOST\" , XGBClassifier()])\n",
    "model.append([\"SVC\" , SVC()])\n",
    "model.append([\"Gaussion\" , GaussianNB()])\n",
    "model.append([\"Multinam nominal nb\" , MultinomialNB()])\n",
    "model.append([\"Random Forest\" , RandomForestClassifier()])\n",
    "model.append([\"Extra Tree\" , ExtraTreeClassifier()])\n",
    "model.append([\"Grading\" , GradientBoostingClassifier()])\n"
   ]
  },
  {
   "cell_type": "code",
   "execution_count": null,
   "id": "9e09ab59",
   "metadata": {},
   "outputs": [],
   "source": []
  },
  {
   "cell_type": "code",
   "execution_count": 7,
   "id": "64103403",
   "metadata": {},
   "outputs": [
    {
     "name": "stdout",
     "output_type": "stream",
     "text": [
      "[14:56:44] WARNING: C:/Users/Administrator/workspace/xgboost-win64_release_1.5.0/src/learner.cc:1115: Starting in XGBoost 1.3.0, the default evaluation metric used with the objective 'multi:softprob' was changed from 'merror' to 'mlogloss'. Explicitly set eval_metric if you'd like to restore the old behavior.\n"
     ]
    },
    {
     "data": {
      "text/plain": [
       "<AxesSubplot:xlabel='Acc', ylabel='name'>"
      ]
     },
     "execution_count": 7,
     "metadata": {},
     "output_type": "execute_result"
    },
    {
     "data": {
      "image/png": "[encoded data removed]",
      "text/plain": [
       "<Figure size 432x288 with 1 Axes>"
      ]
     },
     "metadata": {
      "needs_background": "light"
     },
     "output_type": "display_data"
    }
   ],
   "source": [
    "model_name = []\n",
    "model_acc = []\n",
    "for l,m in model:\n",
    "    m.fit(x_train,y_train)\n",
    "    model_acc.append(accuracy_score(m.predict(x_test),y_test))\n",
    "    model_name.append(l)\n",
    "data = pd.DataFrame(data = {\"name\": model_name,\"Acc\": model_acc})\n",
    "data = data.sort_values(by = \"Acc\")\n",
    "sns.barplot(y = \"name\", x= \"Acc\" , orient=\"h\" , data = data)"
   ]
  },
  {
   "cell_type": "code",
   "execution_count": 20,
   "id": "d4b14865",
   "metadata": {},
   "outputs": [
    {
     "data": {
      "text/plain": [
       "GradientBoostingClassifier()"
      ]
     },
     "execution_count": 20,
     "metadata": {},
     "output_type": "execute_result"
    }
   ],
   "source": [
    "final_model = GradientBoostingClassifier()\n",
    "final_model.fit(x_train,y_train)"
   ]
  },
  {
   "cell_type": "code",
   "execution_count": 22,
   "id": "41752160",
   "metadata": {},
   "outputs": [],
   "source": [
    "pkl.dump(final_model,open(\"model.pkl\",\"wb\"))"
   ]
  },
  {
   "cell_type": "markdown",
   "id": "739ca5a2",
   "metadata": {},
   "source": [
    "### Deployment"
   ]
  },
  {
   "cell_type": "code",
   "execution_count": 27,
   "id": "9fbfdd1c",
   "metadata": {},
   "outputs": [],
   "source": [
    "d = pkl.load(open(\"model.pkl\",\"rb\"))"
   ]
  },
  {
   "cell_type": "code",
   "execution_count": 28,
   "id": "de7e06fb",
   "metadata": {},
   "outputs": [
    {
     "data": {
      "text/plain": [
       "array(['cotton', 'rice', 'pomegranate', 'jute', 'black gram', 'apple',\n",
       "       'apple', 'kidney beans', 'pomegranate', 'papaya', 'grapes',\n",
       "       'coconut', 'banana', 'jute', 'black gram', 'grapes', 'orange',\n",
       "       'papaya', 'coffee', 'pomegranate', 'grapes', 'rice',\n",
       "       'kidney beans', 'coconut', 'coconut', 'mango', 'orange', 'coffee',\n",
       "       'coffee', 'black gram', 'coffee', 'kidney beans', 'apple',\n",
       "       'black gram', 'banana', 'apple', 'orange', 'cotton', 'cotton',\n",
       "       'coconut', 'coconut', 'black gram', 'kidney beans', 'black gram',\n",
       "       'jute', 'mango', 'coconut', 'cotton', 'grapes', 'apple',\n",
       "       'kidney beans', 'orange', 'rice', 'coconut', 'cotton',\n",
       "       'kidney beans', 'papaya', 'pomegranate', 'jute', 'pomegranate',\n",
       "       'jute', 'black gram', 'maize', 'cotton', 'coconut', 'mango',\n",
       "       'coffee', 'pomegranate', 'grapes', 'banana', 'apple', 'coffee',\n",
       "       'kidney beans', 'jute', 'coconut', 'banana', 'banana', 'banana',\n",
       "       'apple', 'banana', 'orange', 'rice', 'black gram', 'jute',\n",
       "       'papaya', 'orange', 'maize', 'pomegranate', 'orange', 'rice',\n",
       "       'mango', 'rice', 'rice', 'cotton', 'maize', 'grapes', 'orange',\n",
       "       'coffee', 'cotton', 'pomegranate', 'cotton', 'cotton',\n",
       "       'kidney beans', 'orange', 'orange', 'papaya', 'pomegranate',\n",
       "       'coffee', 'cotton', 'kidney beans', 'black gram', 'papaya',\n",
       "       'coconut', 'banana', 'rice', 'pomegranate', 'jute', 'coconut',\n",
       "       'banana', 'rice', 'orange', 'papaya', 'pomegranate', 'orange',\n",
       "       'orange', 'jute', 'papaya', 'jute', 'coffee', 'apple', 'papaya',\n",
       "       'pomegranate', 'coconut', 'orange', 'coconut', 'black gram',\n",
       "       'grapes', 'cotton', 'black gram', 'maize', 'jute', 'kidney beans',\n",
       "       'apple', 'mango', 'maize', 'jute', 'pomegranate', 'maize',\n",
       "       'cotton', 'kidney beans', 'apple', 'cotton', 'papaya', 'mango',\n",
       "       'cotton', 'pomegranate', 'black gram', 'mango', 'maize', 'rice',\n",
       "       'apple', 'rice', 'apple', 'kidney beans', 'coffee', 'pomegranate',\n",
       "       'coconut', 'jute', 'black gram', 'grapes', 'black gram', 'mango',\n",
       "       'grapes', 'papaya', 'jute', 'black gram', 'kidney beans', 'cotton',\n",
       "       'black gram', 'black gram', 'black gram', 'banana', 'banana',\n",
       "       'coconut', 'kidney beans', 'black gram', 'grapes', 'jute',\n",
       "       'kidney beans', 'orange', 'coconut', 'coconut', 'apple', 'mango',\n",
       "       'coconut', 'grapes', 'apple', 'black gram', 'cotton', 'coconut',\n",
       "       'jute', 'coconut', 'rice', 'cotton', 'cotton', 'kidney beans',\n",
       "       'apple', 'papaya', 'orange', 'mango', 'mango', 'banana', 'coconut',\n",
       "       'banana', 'maize', 'coffee', 'banana', 'cotton', 'mango', 'coffee',\n",
       "       'papaya', 'grapes', 'cotton', 'pomegranate', 'black gram',\n",
       "       'grapes', 'pomegranate', 'papaya', 'maize', 'grapes', 'banana',\n",
       "       'jute', 'grapes', 'rice', 'rice', 'orange', 'pomegranate',\n",
       "       'papaya', 'papaya', 'black gram', 'coconut', 'mango', 'coffee',\n",
       "       'kidney beans', 'pomegranate', 'jute', 'apple', 'papaya', 'banana',\n",
       "       'maize', 'orange', 'papaya', 'cotton', 'coconut', 'papaya',\n",
       "       'coffee', 'coffee', 'apple', 'maize', 'maize', 'orange',\n",
       "       'pomegranate', 'maize', 'pomegranate', 'rice', 'coffee', 'cotton',\n",
       "       'rice', 'kidney beans', 'jute', 'orange', 'orange', 'mango',\n",
       "       'kidney beans', 'coffee', 'black gram', 'papaya', 'mango', 'jute',\n",
       "       'grapes', 'coconut', 'banana', 'jute', 'coffee', 'maize', 'papaya',\n",
       "       'banana', 'cotton', 'jute', 'coconut', 'rice', 'kidney beans',\n",
       "       'coffee', 'orange', 'jute', 'mango', 'kidney beans', 'coconut',\n",
       "       'pomegranate', 'apple'], dtype=object)"
      ]
     },
     "execution_count": 28,
     "metadata": {},
     "output_type": "execute_result"
    }
   ],
   "source": [
    "d.predict(x_test)"
   ]
  },
  {
   "cell_type": "code",
   "execution_count": null,
   "id": "dc834a4f",
   "metadata": {},
   "outputs": [],
   "source": []
  },
  {
   "cell_type": "code",
   "execution_count": null,
   "id": "6fb54fa8",
   "metadata": {},
   "outputs": [],
   "source": []
  },
  {
   "cell_type": "code",
   "execution_count": null,
   "id": "32d6753f",
   "metadata": {},
   "outputs": [],
   "source": []
  },
  {
   "cell_type": "code",
   "execution_count": null,
   "id": "24b6b77c",
   "metadata": {},
   "outputs": [],
   "source": []
  },
  {
   "cell_type": "code",
   "execution_count": null,
   "id": "1af50b3e",
   "metadata": {},
   "outputs": [],
   "source": []
  },
  {
   "cell_type": "code",
   "execution_count": null,
   "id": "6be69096",
   "metadata": {},
   "outputs": [],
   "source": []
  },
  {
   "cell_type": "code",
   "execution_count": null,
   "id": "f619a553",
   "metadata": {},
   "outputs": [],
   "source": []
  },
  {
   "cell_type": "code",
   "execution_count": null,
   "id": "ef3861be",
   "metadata": {},
   "outputs": [],
   "source": []
  },
  {
   "cell_type": "code",
   "execution_count": 8,
   "id": "1fa842f2",
   "metadata": {},
   "outputs": [
    {
     "data": {
      "text/html": [
       "<div>\n",
       "<style scoped>\n",
       "    .dataframe tbody tr th:only-of-type {\n",
       "        vertical-align: middle;\n",
       "    }\n",
       "\n",
       "    .dataframe tbody tr th {\n",
       "        vertical-align: top;\n",
       "    }\n",
       "\n",
       "    .dataframe thead th {\n",
       "        text-align: right;\n",
       "    }\n",
       "</style>\n",
       "<table border=\"1\" class=\"dataframe\">\n",
       "  <thead>\n",
       "    <tr style=\"text-align: right;\">\n",
       "      <th></th>\n",
       "      <th>name</th>\n",
       "      <th>Acc</th>\n",
       "    </tr>\n",
       "  </thead>\n",
       "  <tbody>\n",
       "    <tr>\n",
       "      <th>3</th>\n",
       "      <td>ADA boost</td>\n",
       "      <td>0.323333</td>\n",
       "    </tr>\n",
       "    <tr>\n",
       "      <th>7</th>\n",
       "      <td>Multinam nominal nb</td>\n",
       "      <td>0.970000</td>\n",
       "    </tr>\n",
       "    <tr>\n",
       "      <th>9</th>\n",
       "      <td>Extra Tree</td>\n",
       "      <td>0.980000</td>\n",
       "    </tr>\n",
       "    <tr>\n",
       "      <th>5</th>\n",
       "      <td>SVC</td>\n",
       "      <td>0.983333</td>\n",
       "    </tr>\n",
       "    <tr>\n",
       "      <th>0</th>\n",
       "      <td>Logisic</td>\n",
       "      <td>0.986667</td>\n",
       "    </tr>\n",
       "    <tr>\n",
       "      <th>4</th>\n",
       "      <td>XGBOOST</td>\n",
       "      <td>0.990000</td>\n",
       "    </tr>\n",
       "    <tr>\n",
       "      <th>1</th>\n",
       "      <td>Decession Tree</td>\n",
       "      <td>0.993333</td>\n",
       "    </tr>\n",
       "    <tr>\n",
       "      <th>6</th>\n",
       "      <td>Gaussion</td>\n",
       "      <td>0.993333</td>\n",
       "    </tr>\n",
       "    <tr>\n",
       "      <th>8</th>\n",
       "      <td>Random Forest</td>\n",
       "      <td>0.993333</td>\n",
       "    </tr>\n",
       "    <tr>\n",
       "      <th>2</th>\n",
       "      <td>Bagging</td>\n",
       "      <td>0.996667</td>\n",
       "    </tr>\n",
       "    <tr>\n",
       "      <th>10</th>\n",
       "      <td>Grading</td>\n",
       "      <td>0.996667</td>\n",
       "    </tr>\n",
       "  </tbody>\n",
       "</table>\n",
       "</div>"
      ],
      "text/plain": [
       "                   name       Acc\n",
       "3             ADA boost  0.323333\n",
       "7   Multinam nominal nb  0.970000\n",
       "9            Extra Tree  0.980000\n",
       "5                   SVC  0.983333\n",
       "0               Logisic  0.986667\n",
       "4               XGBOOST  0.990000\n",
       "1        Decession Tree  0.993333\n",
       "6              Gaussion  0.993333\n",
       "8         Random Forest  0.993333\n",
       "2               Bagging  0.996667\n",
       "10              Grading  0.996667"
      ]
     },
     "execution_count": 8,
     "metadata": {},
     "output_type": "execute_result"
    }
   ],
   "source": [
    "data"
   ]
  },
  {
   "cell_type": "code",
   "execution_count": 9,
   "id": "18c37b1d",
   "metadata": {},
   "outputs": [
    {
     "name": "stdout",
     "output_type": "stream",
     "text": [
      "[14:56:57] WARNING: C:/Users/Administrator/workspace/xgboost-win64_release_1.5.0/src/learner.cc:1115: Starting in XGBoost 1.3.0, the default evaluation metric used with the objective 'multi:softprob' was changed from 'merror' to 'mlogloss'. Explicitly set eval_metric if you'd like to restore the old behavior.\n"
     ]
    },
    {
     "data": {
      "text/plain": [
       "<AxesSubplot:xlabel='Acc', ylabel='name'>"
      ]
     },
     "execution_count": 9,
     "metadata": {},
     "output_type": "execute_result"
    },
    {
     "data": {
      "image/png": "[encoded data removed]",
      "text/plain": [
       "<Figure size 432x288 with 1 Axes>"
      ]
     },
     "metadata": {
      "needs_background": "light"
     },
     "output_type": "display_data"
    }
   ],
   "source": [
    "model_name = []\n",
    "model_acc = []\n",
    "for l,m in model:\n",
    "    m.fit(x_train,y_train)\n",
    "    model_acc.append(accuracy_score(m.predict(x_train),y_train))\n",
    "    model_name.append(l)\n",
    "data = pd.DataFrame(data = {\"name\": model_name,\"Acc\": model_acc})\n",
    "data = data.sort_values(by = \"Acc\")\n",
    "sns.barplot(y = \"name\", x= \"Acc\" , orient=\"h\" , data = data)"
   ]
  },
  {
   "cell_type": "code",
   "execution_count": 10,
   "id": "7866b977",
   "metadata": {},
   "outputs": [
    {
     "data": {
      "text/html": [
       "<div>\n",
       "<style scoped>\n",
       "    .dataframe tbody tr th:only-of-type {\n",
       "        vertical-align: middle;\n",
       "    }\n",
       "\n",
       "    .dataframe tbody tr th {\n",
       "        vertical-align: top;\n",
       "    }\n",
       "\n",
       "    .dataframe thead th {\n",
       "        text-align: right;\n",
       "    }\n",
       "</style>\n",
       "<table border=\"1\" class=\"dataframe\">\n",
       "  <thead>\n",
       "    <tr style=\"text-align: right;\">\n",
       "      <th></th>\n",
       "      <th>name</th>\n",
       "      <th>Acc</th>\n",
       "    </tr>\n",
       "  </thead>\n",
       "  <tbody>\n",
       "    <tr>\n",
       "      <th>3</th>\n",
       "      <td>ADA boost</td>\n",
       "      <td>0.335833</td>\n",
       "    </tr>\n",
       "    <tr>\n",
       "      <th>7</th>\n",
       "      <td>Multinam nominal nb</td>\n",
       "      <td>0.958333</td>\n",
       "    </tr>\n",
       "    <tr>\n",
       "      <th>5</th>\n",
       "      <td>SVC</td>\n",
       "      <td>0.985833</td>\n",
       "    </tr>\n",
       "    <tr>\n",
       "      <th>0</th>\n",
       "      <td>Logisic</td>\n",
       "      <td>0.990833</td>\n",
       "    </tr>\n",
       "    <tr>\n",
       "      <th>6</th>\n",
       "      <td>Gaussion</td>\n",
       "      <td>0.993333</td>\n",
       "    </tr>\n",
       "    <tr>\n",
       "      <th>2</th>\n",
       "      <td>Bagging</td>\n",
       "      <td>0.999167</td>\n",
       "    </tr>\n",
       "    <tr>\n",
       "      <th>1</th>\n",
       "      <td>Decession Tree</td>\n",
       "      <td>1.000000</td>\n",
       "    </tr>\n",
       "    <tr>\n",
       "      <th>4</th>\n",
       "      <td>XGBOOST</td>\n",
       "      <td>1.000000</td>\n",
       "    </tr>\n",
       "    <tr>\n",
       "      <th>8</th>\n",
       "      <td>Random Forest</td>\n",
       "      <td>1.000000</td>\n",
       "    </tr>\n",
       "    <tr>\n",
       "      <th>9</th>\n",
       "      <td>Extra Tree</td>\n",
       "      <td>1.000000</td>\n",
       "    </tr>\n",
       "    <tr>\n",
       "      <th>10</th>\n",
       "      <td>Grading</td>\n",
       "      <td>1.000000</td>\n",
       "    </tr>\n",
       "  </tbody>\n",
       "</table>\n",
       "</div>"
      ],
      "text/plain": [
       "                   name       Acc\n",
       "3             ADA boost  0.335833\n",
       "7   Multinam nominal nb  0.958333\n",
       "5                   SVC  0.985833\n",
       "0               Logisic  0.990833\n",
       "6              Gaussion  0.993333\n",
       "2               Bagging  0.999167\n",
       "1        Decession Tree  1.000000\n",
       "4               XGBOOST  1.000000\n",
       "8         Random Forest  1.000000\n",
       "9            Extra Tree  1.000000\n",
       "10              Grading  1.000000"
      ]
     },
     "execution_count": 10,
     "metadata": {},
     "output_type": "execute_result"
    }
   ],
   "source": [
    "data"
   ]
  },
  {
   "cell_type": "code",
   "execution_count": null,
   "id": "2c2f1b8a",
   "metadata": {},
   "outputs": [],
   "source": []
  },
  {
   "cell_type": "code",
   "execution_count": null,
   "id": "e59baab8",
   "metadata": {},
   "outputs": [],
   "source": []
  },
  {
   "cell_type": "code",
   "execution_count": null,
   "id": "f4610cb4",
   "metadata": {},
   "outputs": [],
   "source": []
  },
  {
   "cell_type": "code",
   "execution_count": 11,
   "id": "cb5acf01",
   "metadata": {
    "scrolled": false
   },
   "outputs": [
    {
     "name": "stdout",
     "output_type": "stream",
     "text": [
      "accuracy score of train  0.995\n",
      "accuracy score of test  1.0\n"
     ]
    }
   ],
   "source": [
    "model = DecisionTreeClassifier(max_depth=10)\n",
    "model.fit(x_train,y_train)\n",
    "print(\"accuracy score of train \",accuracy_score(model.predict(x_train),y_train))\n",
    "print(\"accuracy score of test \",accuracy_score(model.predict(x_test),y_test))\n"
   ]
  },
  {
   "cell_type": "code",
   "execution_count": 12,
   "id": "8adb59e1",
   "metadata": {},
   "outputs": [
    {
     "name": "stdout",
     "output_type": "stream",
     "text": [
      "accuracy score of train  1.0\n",
      "accuracy score of test  0.9933333333333333\n"
     ]
    }
   ],
   "source": [
    "model = RandomForestClassifier()\n",
    "model.fit(x_train,y_train)\n",
    "print(\"accuracy score of train \",accuracy_score(model.predict(x_train),y_train))\n",
    "print(\"accuracy score of test \",accuracy_score(model.predict(x_test),y_test))"
   ]
  },
  {
   "cell_type": "code",
   "execution_count": 13,
   "id": "57a2bcb4",
   "metadata": {},
   "outputs": [
    {
     "name": "stdout",
     "output_type": "stream",
     "text": [
      "accuracy score of train  0.9991666666666666\n",
      "accuracy score of test  0.99\n",
      "classfication Report                precision    recall  f1-score   support\n",
      "\n",
      "       apple       1.00      1.00      1.00        18\n",
      "      banana       1.00      1.00      1.00        18\n",
      "  black gram       1.00      1.00      1.00        23\n",
      "     coconut       1.00      1.00      1.00        26\n",
      "      coffee       1.00      1.00      1.00        19\n",
      "      cotton       1.00      1.00      1.00        24\n",
      "      grapes       1.00      1.00      1.00        16\n",
      "        jute       0.92      0.96      0.94        23\n",
      "kidney beans       1.00      1.00      1.00        21\n",
      "       maize       1.00      1.00      1.00        14\n",
      "       mango       1.00      1.00      1.00        16\n",
      "      orange       1.00      1.00      1.00        22\n",
      "      papaya       1.00      1.00      1.00        21\n",
      " pomegranate       1.00      1.00      1.00        22\n",
      "        rice       0.94      0.88      0.91        17\n",
      "\n",
      "    accuracy                           0.99       300\n",
      "   macro avg       0.99      0.99      0.99       300\n",
      "weighted avg       0.99      0.99      0.99       300\n",
      "\n"
     ]
    }
   ],
   "source": [
    "model = BaggingClassifier()\n",
    "model.fit(x_train,y_train)\n",
    "print(\"accuracy score of train \",accuracy_score(model.predict(x_train),y_train))\n",
    "print(\"accuracy score of test \",accuracy_score(model.predict(x_test),y_test))\n",
    "print(\"classfication Report \" , classification_report(model.predict(x_test),y_test))"
   ]
  },
  {
   "cell_type": "code",
   "execution_count": null,
   "id": "763503d2",
   "metadata": {},
   "outputs": [],
   "source": []
  },
  {
   "cell_type": "code",
   "execution_count": 14,
   "id": "c213f79f",
   "metadata": {},
   "outputs": [],
   "source": [
    "def macha(x1,x2,x3,x4,x5,x6,x7):\n",
    "    x = np.array([[x1,x2,x3,x4,x5,x6,x7]])\n",
    "    return model.predict(x)\n",
    "    "
   ]
  },
  {
   "cell_type": "code",
   "execution_count": 15,
   "id": "927015f2",
   "metadata": {},
   "outputs": [
    {
     "data": {
      "text/plain": [
       "array(['pomegranate'], dtype=object)"
      ]
     },
     "execution_count": 15,
     "metadata": {},
     "output_type": "execute_result"
    }
   ],
   "source": [
    "macha(00.87,85.80,6.50,112.9355,20,10,40)"
   ]
  },
  {
   "cell_type": "code",
   "execution_count": 16,
   "id": "44f40973",
   "metadata": {},
   "outputs": [
    {
     "data": {
      "text/plain": [
       "array(['banana'], dtype=object)"
      ]
     },
     "execution_count": 16,
     "metadata": {},
     "output_type": "execute_result"
    }
   ],
   "source": [
    "macha(1110,110,110,110,110,110,110)"
   ]
  },
  {
   "cell_type": "code",
   "execution_count": 17,
   "id": "345080c3",
   "metadata": {},
   "outputs": [
    {
     "data": {
      "text/html": [
       "<div>\n",
       "<style scoped>\n",
       "    .dataframe tbody tr th:only-of-type {\n",
       "        vertical-align: middle;\n",
       "    }\n",
       "\n",
       "    .dataframe tbody tr th {\n",
       "        vertical-align: top;\n",
       "    }\n",
       "\n",
       "    .dataframe thead th {\n",
       "        text-align: right;\n",
       "    }\n",
       "</style>\n",
       "<table border=\"1\" class=\"dataframe\">\n",
       "  <thead>\n",
       "    <tr style=\"text-align: right;\">\n",
       "      <th></th>\n",
       "      <th>name</th>\n",
       "      <th>Acc</th>\n",
       "    </tr>\n",
       "  </thead>\n",
       "  <tbody>\n",
       "    <tr>\n",
       "      <th>1</th>\n",
       "      <td>Decession Tree</td>\n",
       "      <td>1.0</td>\n",
       "    </tr>\n",
       "    <tr>\n",
       "      <th>4</th>\n",
       "      <td>XGBOOST</td>\n",
       "      <td>1.0</td>\n",
       "    </tr>\n",
       "    <tr>\n",
       "      <th>8</th>\n",
       "      <td>Random Forest</td>\n",
       "      <td>1.0</td>\n",
       "    </tr>\n",
       "    <tr>\n",
       "      <th>9</th>\n",
       "      <td>Extra Tree</td>\n",
       "      <td>1.0</td>\n",
       "    </tr>\n",
       "    <tr>\n",
       "      <th>10</th>\n",
       "      <td>Grading</td>\n",
       "      <td>1.0</td>\n",
       "    </tr>\n",
       "  </tbody>\n",
       "</table>\n",
       "</div>"
      ],
      "text/plain": [
       "              name  Acc\n",
       "1   Decession Tree  1.0\n",
       "4          XGBOOST  1.0\n",
       "8    Random Forest  1.0\n",
       "9       Extra Tree  1.0\n",
       "10         Grading  1.0"
      ]
     },
     "execution_count": 17,
     "metadata": {},
     "output_type": "execute_result"
    }
   ],
   "source": [
    "data.tail()"
   ]
  },
  {
   "cell_type": "code",
   "execution_count": 18,
   "id": "388799bf",
   "metadata": {},
   "outputs": [
    {
     "data": {
      "text/html": [
       "<div>\n",
       "<style scoped>\n",
       "    .dataframe tbody tr th:only-of-type {\n",
       "        vertical-align: middle;\n",
       "    }\n",
       "\n",
       "    .dataframe tbody tr th {\n",
       "        vertical-align: top;\n",
       "    }\n",
       "\n",
       "    .dataframe thead th {\n",
       "        text-align: right;\n",
       "    }\n",
       "</style>\n",
       "<table border=\"1\" class=\"dataframe\">\n",
       "  <thead>\n",
       "    <tr style=\"text-align: right;\">\n",
       "      <th></th>\n",
       "      <th>temperature</th>\n",
       "      <th>humidity</th>\n",
       "      <th>ph</th>\n",
       "      <th>rainfall</th>\n",
       "      <th>N</th>\n",
       "      <th>P</th>\n",
       "      <th>K</th>\n",
       "    </tr>\n",
       "  </thead>\n",
       "  <tbody>\n",
       "    <tr>\n",
       "      <th>count</th>\n",
       "      <td>1500.000000</td>\n",
       "      <td>1500.000000</td>\n",
       "      <td>1500.000000</td>\n",
       "      <td>1500.000000</td>\n",
       "      <td>1500.000000</td>\n",
       "      <td>1500.000000</td>\n",
       "      <td>1500.000000</td>\n",
       "    </tr>\n",
       "    <tr>\n",
       "      <th>mean</th>\n",
       "      <td>25.430545</td>\n",
       "      <td>75.113914</td>\n",
       "      <td>6.390652</td>\n",
       "      <td>121.728344</td>\n",
       "      <td>52.666667</td>\n",
       "      <td>48.333333</td>\n",
       "      <td>53.333333</td>\n",
       "    </tr>\n",
       "    <tr>\n",
       "      <th>std</th>\n",
       "      <td>5.393916</td>\n",
       "      <td>19.624902</td>\n",
       "      <td>0.642545</td>\n",
       "      <td>51.150488</td>\n",
       "      <td>35.502054</td>\n",
       "      <td>35.633346</td>\n",
       "      <td>58.633160</td>\n",
       "    </tr>\n",
       "    <tr>\n",
       "      <th>min</th>\n",
       "      <td>8.825675</td>\n",
       "      <td>18.092240</td>\n",
       "      <td>4.507524</td>\n",
       "      <td>40.351531</td>\n",
       "      <td>20.000000</td>\n",
       "      <td>10.000000</td>\n",
       "      <td>10.000000</td>\n",
       "    </tr>\n",
       "    <tr>\n",
       "      <th>25%</th>\n",
       "      <td>22.616237</td>\n",
       "      <td>64.589876</td>\n",
       "      <td>5.884768</td>\n",
       "      <td>87.736901</td>\n",
       "      <td>20.000000</td>\n",
       "      <td>20.000000</td>\n",
       "      <td>20.000000</td>\n",
       "    </tr>\n",
       "    <tr>\n",
       "      <th>50%</th>\n",
       "      <td>25.046573</td>\n",
       "      <td>81.319567</td>\n",
       "      <td>6.351950</td>\n",
       "      <td>107.711167</td>\n",
       "      <td>40.000000</td>\n",
       "      <td>40.000000</td>\n",
       "      <td>30.000000</td>\n",
       "    </tr>\n",
       "    <tr>\n",
       "      <th>75%</th>\n",
       "      <td>27.988736</td>\n",
       "      <td>90.876194</td>\n",
       "      <td>6.835967</td>\n",
       "      <td>149.770282</td>\n",
       "      <td>80.000000</td>\n",
       "      <td>60.000000</td>\n",
       "      <td>50.000000</td>\n",
       "    </tr>\n",
       "    <tr>\n",
       "      <th>max</th>\n",
       "      <td>43.675493</td>\n",
       "      <td>99.981876</td>\n",
       "      <td>7.995849</td>\n",
       "      <td>298.560117</td>\n",
       "      <td>120.000000</td>\n",
       "      <td>125.000000</td>\n",
       "      <td>200.000000</td>\n",
       "    </tr>\n",
       "  </tbody>\n",
       "</table>\n",
       "</div>"
      ],
      "text/plain": [
       "       temperature     humidity           ph     rainfall            N  \\\n",
       "count  1500.000000  1500.000000  1500.000000  1500.000000  1500.000000   \n",
       "mean     25.430545    75.113914     6.390652   121.728344    52.666667   \n",
       "std       5.393916    19.624902     0.642545    51.150488    35.502054   \n",
       "min       8.825675    18.092240     4.507524    40.351531    20.000000   \n",
       "25%      22.616237    64.589876     5.884768    87.736901    20.000000   \n",
       "50%      25.046573    81.319567     6.351950   107.711167    40.000000   \n",
       "75%      27.988736    90.876194     6.835967   149.770282    80.000000   \n",
       "max      43.675493    99.981876     7.995849   298.560117   120.000000   \n",
       "\n",
       "                 P            K  \n",
       "count  1500.000000  1500.000000  \n",
       "mean     48.333333    53.333333  \n",
       "std      35.633346    58.633160  \n",
       "min      10.000000    10.000000  \n",
       "25%      20.000000    20.000000  \n",
       "50%      40.000000    30.000000  \n",
       "75%      60.000000    50.000000  \n",
       "max     125.000000   200.000000  "
      ]
     },
     "execution_count": 18,
     "metadata": {},
     "output_type": "execute_result"
    }
   ],
   "source": [
    "x.describe()"
   ]
  },
  {
   "cell_type": "code",
   "execution_count": null,
   "id": "87b7c67e",
   "metadata": {},
   "outputs": [],
   "source": []
  }
 ],
 "metadata": {
  "kernelspec": {
   "display_name": "Python 3 (ipykernel)",
   "language": "python",
   "name": "python3"
  },
  "language_info": {
   "codemirror_mode": {
    "name": "ipython",
    "version": 3
   },
   "file_extension": ".py",
   "mimetype": "text/x-python",
   "name": "python",
   "nbconvert_exporter": "python",
   "pygments_lexer": "ipython3",
   "version": "3.8.8"
  }
 },
 "nbformat": 4,
 "nbformat_minor": 5
}
